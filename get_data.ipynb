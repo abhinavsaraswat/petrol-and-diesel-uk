{
 "cells": [
  {
   "cell_type": "code",
   "execution_count": 1,
   "metadata": {},
   "outputs": [],
   "source": [
    "import pandas as pd \n"
   ]
  },
  {
   "cell_type": "code",
   "execution_count": 25,
   "metadata": {},
   "outputs": [
    {
     "data": {
      "text/plain": [
       "['Date',\n",
       " 'ULSP Pump price',\n",
       " 'ULSD Pump price',\n",
       " 'Duty rate ULSP',\n",
       " 'Duty rate ULSD',\n",
       " 'VAT (pct rate) ULSP',\n",
       " 'VAT (pct rate) ULSD']"
      ]
     },
     "execution_count": 25,
     "metadata": {},
     "output_type": "execute_result"
    }
   ],
   "source": [
    "_header = [\n",
    "\"Date\",\n",
    "\"ULSP Pump price\",\n",
    "\"ULSD Pump price\",\n",
    "\"Duty rate ULSP\",\n",
    "\"Duty rate ULSD\",\n",
    "r\"VAT (pct rate) ULSP\",\n",
    "r\"VAT (pct rate) ULSD\",\n",
    "]\n",
    "_header"
   ]
  },
  {
   "cell_type": "code",
   "execution_count": 4,
   "metadata": {},
   "outputs": [],
   "source": [
    "url = 'https://assets.publishing.service.gov.uk/government/uploads/system/uploads/attachment_data/file/1140565/CSV_060323.csv'"
   ]
  },
  {
   "cell_type": "code",
   "execution_count": 5,
   "metadata": {},
   "outputs": [
    {
     "data": {
      "text/html": [
       "<div>\n",
       "<style scoped>\n",
       "    .dataframe tbody tr th:only-of-type {\n",
       "        vertical-align: middle;\n",
       "    }\n",
       "\n",
       "    .dataframe tbody tr th {\n",
       "        vertical-align: top;\n",
       "    }\n",
       "\n",
       "    .dataframe thead th {\n",
       "        text-align: right;\n",
       "    }\n",
       "</style>\n",
       "<table border=\"1\" class=\"dataframe\">\n",
       "  <thead>\n",
       "    <tr style=\"text-align: right;\">\n",
       "      <th></th>\n",
       "      <th>ULSP  and ULSD</th>\n",
       "      <th>Rate</th>\n",
       "    </tr>\n",
       "  </thead>\n",
       "  <tbody>\n",
       "    <tr>\n",
       "      <th>0</th>\n",
       "      <td>Duty rate per litre (£) from 7 March 2001</td>\n",
       "      <td>0.4582</td>\n",
       "    </tr>\n",
       "    <tr>\n",
       "      <th>1</th>\n",
       "      <td>Duty rate per litre (£) from 1 October 2003</td>\n",
       "      <td>0.4710</td>\n",
       "    </tr>\n",
       "    <tr>\n",
       "      <th>2</th>\n",
       "      <td>Duty rate per litre (£) from 7 December 2006</td>\n",
       "      <td>0.4835</td>\n",
       "    </tr>\n",
       "    <tr>\n",
       "      <th>3</th>\n",
       "      <td>Duty rate per litre (£) from 1 October 2007</td>\n",
       "      <td>0.5035</td>\n",
       "    </tr>\n",
       "    <tr>\n",
       "      <th>4</th>\n",
       "      <td>Duty rate per litre (£) from 1 December 2008</td>\n",
       "      <td>0.5235</td>\n",
       "    </tr>\n",
       "    <tr>\n",
       "      <th>5</th>\n",
       "      <td>Duty rate per litre (£) from 1 April 2009</td>\n",
       "      <td>0.5419</td>\n",
       "    </tr>\n",
       "    <tr>\n",
       "      <th>6</th>\n",
       "      <td>Duty rate per litre (£) from 1 September 2009</td>\n",
       "      <td>0.5619</td>\n",
       "    </tr>\n",
       "    <tr>\n",
       "      <th>7</th>\n",
       "      <td>Duty rate per litre (£) from 1 April 2010</td>\n",
       "      <td>0.5719</td>\n",
       "    </tr>\n",
       "    <tr>\n",
       "      <th>8</th>\n",
       "      <td>Duty rate per litre (£) from 1 October 2010</td>\n",
       "      <td>0.5819</td>\n",
       "    </tr>\n",
       "    <tr>\n",
       "      <th>9</th>\n",
       "      <td>Duty rate per litre (£) from 1 January 2011</td>\n",
       "      <td>0.5895</td>\n",
       "    </tr>\n",
       "    <tr>\n",
       "      <th>10</th>\n",
       "      <td>Duty rate per litre (£) from 23 March 2011</td>\n",
       "      <td>0.5795</td>\n",
       "    </tr>\n",
       "    <tr>\n",
       "      <th>11</th>\n",
       "      <td>Duty rate per litre (£) from 23 March 2022</td>\n",
       "      <td>0.5295</td>\n",
       "    </tr>\n",
       "  </tbody>\n",
       "</table>\n",
       "</div>"
      ],
      "text/plain": [
       "                                   ULSP  and ULSD    Rate\n",
       "0       Duty rate per litre (£) from 7 March 2001  0.4582\n",
       "1     Duty rate per litre (£) from 1 October 2003  0.4710\n",
       "2    Duty rate per litre (£) from 7 December 2006  0.4835\n",
       "3     Duty rate per litre (£) from 1 October 2007  0.5035\n",
       "4    Duty rate per litre (£) from 1 December 2008  0.5235\n",
       "5       Duty rate per litre (£) from 1 April 2009  0.5419\n",
       "6   Duty rate per litre (£) from 1 September 2009  0.5619\n",
       "7       Duty rate per litre (£) from 1 April 2010  0.5719\n",
       "8     Duty rate per litre (£) from 1 October 2010  0.5819\n",
       "9     Duty rate per litre (£) from 1 January 2011  0.5895\n",
       "10     Duty rate per litre (£) from 23 March 2011  0.5795\n",
       "11     Duty rate per litre (£) from 23 March 2022  0.5295"
      ]
     },
     "execution_count": 5,
     "metadata": {},
     "output_type": "execute_result"
    }
   ],
   "source": [
    "duty_rates = pd.read_csv(url,usecols=[8,9])\n",
    "duty_rates.dropna(inplace=True)\n",
    "duty_rates.columns=['ULSP  and ULSD','Rate']\n",
    "duty_rates.reset_index(inplace=True,drop=True)\n",
    "duty_rates"
   ]
  },
  {
   "cell_type": "code",
   "execution_count": 26,
   "metadata": {},
   "outputs": [
    {
     "data": {
      "text/html": [
       "<div>\n",
       "<style scoped>\n",
       "    .dataframe tbody tr th:only-of-type {\n",
       "        vertical-align: middle;\n",
       "    }\n",
       "\n",
       "    .dataframe tbody tr th {\n",
       "        vertical-align: top;\n",
       "    }\n",
       "\n",
       "    .dataframe thead th {\n",
       "        text-align: right;\n",
       "    }\n",
       "</style>\n",
       "<table border=\"1\" class=\"dataframe\">\n",
       "  <thead>\n",
       "    <tr style=\"text-align: right;\">\n",
       "      <th></th>\n",
       "      <th>Date</th>\n",
       "      <th>ULSP Pump price</th>\n",
       "      <th>ULSD Pump price</th>\n",
       "      <th>Duty rate ULSP</th>\n",
       "      <th>Duty rate ULSD</th>\n",
       "      <th>VAT (pct rate) ULSP</th>\n",
       "      <th>VAT (pct rate) ULSD</th>\n",
       "    </tr>\n",
       "  </thead>\n",
       "  <tbody>\n",
       "    <tr>\n",
       "      <th>0</th>\n",
       "      <td>09/06/2003</td>\n",
       "      <td>74.59</td>\n",
       "      <td>76.77</td>\n",
       "      <td>45.82</td>\n",
       "      <td>45.82</td>\n",
       "      <td>17.5</td>\n",
       "      <td>17.5</td>\n",
       "    </tr>\n",
       "    <tr>\n",
       "      <th>1</th>\n",
       "      <td>16/06/2003</td>\n",
       "      <td>74.47</td>\n",
       "      <td>76.69</td>\n",
       "      <td>45.82</td>\n",
       "      <td>45.82</td>\n",
       "      <td>17.5</td>\n",
       "      <td>17.5</td>\n",
       "    </tr>\n",
       "    <tr>\n",
       "      <th>2</th>\n",
       "      <td>23/06/2003</td>\n",
       "      <td>74.42</td>\n",
       "      <td>76.62</td>\n",
       "      <td>45.82</td>\n",
       "      <td>45.82</td>\n",
       "      <td>17.5</td>\n",
       "      <td>17.5</td>\n",
       "    </tr>\n",
       "    <tr>\n",
       "      <th>3</th>\n",
       "      <td>30/06/2003</td>\n",
       "      <td>74.35</td>\n",
       "      <td>76.51</td>\n",
       "      <td>45.82</td>\n",
       "      <td>45.82</td>\n",
       "      <td>17.5</td>\n",
       "      <td>17.5</td>\n",
       "    </tr>\n",
       "    <tr>\n",
       "      <th>4</th>\n",
       "      <td>07/07/2003</td>\n",
       "      <td>74.28</td>\n",
       "      <td>76.46</td>\n",
       "      <td>45.82</td>\n",
       "      <td>45.82</td>\n",
       "      <td>17.5</td>\n",
       "      <td>17.5</td>\n",
       "    </tr>\n",
       "  </tbody>\n",
       "</table>\n",
       "</div>"
      ],
      "text/plain": [
       "         Date  ULSP Pump price  ULSD Pump price  Duty rate ULSP  \\\n",
       "0  09/06/2003            74.59            76.77           45.82   \n",
       "1  16/06/2003            74.47            76.69           45.82   \n",
       "2  23/06/2003            74.42            76.62           45.82   \n",
       "3  30/06/2003            74.35            76.51           45.82   \n",
       "4  07/07/2003            74.28            76.46           45.82   \n",
       "\n",
       "   Duty rate ULSD  VAT (pct rate) ULSP  VAT (pct rate) ULSD  \n",
       "0           45.82                 17.5                 17.5  \n",
       "1           45.82                 17.5                 17.5  \n",
       "2           45.82                 17.5                 17.5  \n",
       "3           45.82                 17.5                 17.5  \n",
       "4           45.82                 17.5                 17.5  "
      ]
     },
     "execution_count": 26,
     "metadata": {},
     "output_type": "execute_result"
    }
   ],
   "source": [
    "data = pd.read_csv(url, skiprows=3, usecols=[0,1,2,3,4,5,6,],header=None)\n",
    "data.columns=_header\n",
    "data.shape\n",
    "data.head()"
   ]
  },
  {
   "cell_type": "code",
   "execution_count": 27,
   "metadata": {},
   "outputs": [],
   "source": [
    "data.to_csv('data/petrol_diesel_prices_uk.csv',index=False)"
   ]
  },
  {
   "cell_type": "code",
   "execution_count": null,
   "metadata": {},
   "outputs": [],
   "source": []
  }
 ],
 "metadata": {
  "kernelspec": {
   "display_name": "Python 3",
   "language": "python",
   "name": "python3"
  },
  "language_info": {
   "codemirror_mode": {
    "name": "ipython",
    "version": 3
   },
   "file_extension": ".py",
   "mimetype": "text/x-python",
   "name": "python",
   "nbconvert_exporter": "python",
   "pygments_lexer": "ipython3",
   "version": "3.9.6 (default, Oct 18 2022, 12:41:40) \n[Clang 14.0.0 (clang-1400.0.29.202)]"
  },
  "orig_nbformat": 4,
  "vscode": {
   "interpreter": {
    "hash": "8a5edab282632443219e051e4ade2d1d5bbc671c781051bf1437897cbdfea0f1"
   }
  }
 },
 "nbformat": 4,
 "nbformat_minor": 2
}
